{
 "cells": [
  {
   "cell_type": "markdown",
   "metadata": {},
   "source": [
    "# Generate FIR Filter Coefficients\n",
    "\n",
    "Demonstrates how to generate precomputed/predefined FIR filter coefficients for various resampling scenarios based on input and output sample rates. The coefficients are formatted in a convenient way to facilitate adding them to a C/C++ file as compile-time constants. "
   ]
  },
  {
   "cell_type": "code",
   "execution_count": 117,
   "metadata": {},
   "outputs": [],
   "source": [
    "from fractions import Fraction\n",
    "import math\n",
    "import numpy as np\n",
    "import os\n",
    "from scipy import signal"
   ]
  },
  {
   "cell_type": "code",
   "execution_count": 118,
   "metadata": {},
   "outputs": [],
   "source": [
    "INPUT_SAMPLE_RATES_STR = os.environ.get('INPUT_SAMPLE_RATE', '1140000,1140000,1000000,228000,200000,200000')\n",
    "OUTPUT_SAMPLE_RATES_STR = os.environ.get('OUTPUT_SAMPLE_RATE', '228000,200000,200000,45600,45000,44000')\n",
    "FILTER_ORDERS_STR = os.environ.get('FILTER_ORDERS', '32,64,128,256')\n",
    "\n",
    "# convert from the string environment variables to other, more convenient, representations\n",
    "INPUT_SAMPLE_RATES = [int(x) for x in INPUT_SAMPLE_RATES_STR.split(',')]\n",
    "OUTPUT_SAMPLE_RATES = [int(x) for x in OUTPUT_SAMPLE_RATES_STR.split(',')]\n",
    "FILTER_ORDERS = [int(x) for x in FILTER_ORDERS_STR.split(',')]"
   ]
  },
  {
   "cell_type": "code",
   "execution_count": 132,
   "metadata": {},
   "outputs": [],
   "source": [
    "INPUT_TEMPLATE_FILE = \"../../src/transform/falcon_dsp_predefined_fir_filter_template.cc\"\n",
    "OUTPUT_FILE = \"../../src/transform/falcon_dsp_predefined_fir_filter.cc\"\n",
    "\n",
    "input_fd = open(INPUT_TEMPLATE_FILE, 'r')\n",
    "output_fd = open(OUTPUT_FILE, 'w')\n",
    "\n",
    "# write the first part of the file\n",
    "for line in input_fd:\n",
    "    if \"AUTO_GENERATED_COEFFICIENTS_HERE\" in line:\n",
    "        break\n",
    "    else:\n",
    "        output_fd.write(line)"
   ]
  },
  {
   "cell_type": "code",
   "execution_count": 133,
   "metadata": {},
   "outputs": [],
   "source": [
    "def write_filter_info(output_fd, filter_order, filter_order_str, filter_type, filter_coeffs):\n",
    "    \n",
    "    taps_enum_dict = {\"-1\": \"FILTER_TAPS_OPTIMAL\",\n",
    "                      \"16\": \"FILTER_TAPS_16\",\n",
    "                      \"32\": \"FILTER_TAPS_32\",\n",
    "                      \"64\": \"FILTER_TAPS_64\",\n",
    "                      \"128\": \"FILTER_TAPS_128\",\n",
    "                      \"256\": \"FILTER_TAPS_256\"}\n",
    "    \n",
    "    # print 'header information'\n",
    "    output_fd.write(\"        /* INPUT_SAMPLE_RATE:   %12u sps\\n\" % INPUT_SAMPLE_RATE)\n",
    "    output_fd.write(\"         * OUTPUT_SAMPLE_RATE:  %12u sps\\n\" % OUTPUT_SAMPLE_RATE)\n",
    "    output_fd.write(\"         * FILTER_ORDER:        %12u\\n\" % (filter_order))\n",
    "    output_fd.write(\"         * COEFF_ALGORITHM:     %12s\\n\" % (filter_type))\n",
    "    output_fd.write(\"         */\\n\")\n",
    "    output_fd.write(\"        {\\n\");\n",
    "    output_fd.write(\"            predefined_resample_filter_key_s(%u, %u, filter_taps_e::%s, filter_source_type_e::%s),\\n\" % (INPUT_SAMPLE_RATE, OUTPUT_SAMPLE_RATE, taps_enum_dict[filter_order_str], filter_type))\n",
    "    output_fd.write(\"            {%u, /* up_rate */\\n\" % p)\n",
    "    output_fd.write(\"             %u, /* down_rate */\\n\" % q)\n",
    "    output_fd.write(\"             std::vector<std::complex<float>>{\\n\")\n",
    "    next_line = \"                 \"\n",
    "    for coeff_idx in range(len(filter_coeffs)):\n",
    "        next_line += \"{%+01.08f, %01.08f}\" % (filter_coeffs[coeff_idx].real, filter_coeffs[coeff_idx].imag)\n",
    "        if coeff_idx % 4 == 3:\n",
    "            output_fd.write(next_line + \",\\n\"); next_line = \"                 \"\n",
    "        else:\n",
    "            next_line += \", \"\n",
    "\n",
    "    output_fd.write(next_line[:-2])\n",
    "    output_fd.write(\"             }\\n\")\n",
    "    output_fd.write(\"            } /* end of %u sps -> %u sps */\\n\" % (INPUT_SAMPLE_RATE, OUTPUT_SAMPLE_RATE))"
   ]
  },
  {
   "cell_type": "code",
   "execution_count": 134,
   "metadata": {},
   "outputs": [
    {
     "name": "stdout",
     "output_type": "stream",
     "text": [
      "Generating coefficients for 1140000 -> 228000\n",
      "Generating coefficients for 1140000 -> 200000\n",
      "Generating coefficients for 1000000 -> 200000\n",
      "Generating coefficients for 228000 -> 45600\n",
      "Generating coefficients for 200000 -> 45000\n",
      "Generating coefficients for 200000 -> 44000\n"
     ]
    }
   ],
   "source": [
    "DEFINED_FILTER_ORDERS = [16, 32, 64, 128, 256]\n",
    "\n",
    "for resample_idx in range(len(INPUT_SAMPLE_RATES)):\n",
    "\n",
    "    INPUT_SAMPLE_RATE = INPUT_SAMPLE_RATES[resample_idx]\n",
    "    OUTPUT_SAMPLE_RATE = OUTPUT_SAMPLE_RATES[resample_idx]\n",
    "    \n",
    "    print(\"Generating coefficients for %u -> %u\" % (INPUT_SAMPLE_RATE, OUTPUT_SAMPLE_RATE))\n",
    "    \n",
    "    filter_orders = FILTER_ORDERS.copy()\n",
    "    \n",
    "    # find the 'unconstrained' filter order based on up and down sample ratios\n",
    "    resampling_ratio = OUTPUT_SAMPLE_RATE / INPUT_SAMPLE_RATE\n",
    "    ratio = Fraction(\"%.12f\" % (resampling_ratio)).limit_denominator()\n",
    "    p = ratio.numerator\n",
    "    q = ratio.denominator\n",
    "    pqmax = max(p, q)\n",
    "\n",
    "    # cutoff frequency of the lowpass filter at the high (upsampled) rate\n",
    "    cutoff_freq = 1 / 2 / pqmax\n",
    "    unconstrained_filter_order = 2 * 10 * pqmax + 1\n",
    "    #filter_delay = int((unconstrained_filter_order - 1) / p / 2)\n",
    "\n",
    "    filter_orders.append(unconstrained_filter_order)\n",
    "    filter_orders = sorted(list(set(filter_orders)))\n",
    "    \n",
    "    for filter_order_idx in range(len(filter_orders)):\n",
    "    \n",
    "        filter_order_str = \"\"\n",
    "        if filter_orders[filter_order_idx] in DEFINED_FILTER_ORDERS:\n",
    "            filter_order_str = \"%u\" % (filter_orders[filter_order_idx])\n",
    "        else:\n",
    "            filter_order_str = \"-1\"\n",
    "    \n",
    "        firls_num_taps = filter_orders[filter_order_idx]\n",
    "        if firls_num_taps % 2 == 0:\n",
    "            firls_num_taps += 1\n",
    "        \n",
    "        firls_filter_coeffs = float(p) * signal.firls(firls_num_taps, [0, 2.0 * cutoff_freq, 2.0 * cutoff_freq, 1.0], [1.0, 1.0, 0.0, 0.0])\n",
    "        firls_filter_coeffs = firls_filter_coeffs * signal.kaiser(firls_num_taps, beta=5)\n",
    "        write_filter_info(output_fd, firls_num_taps, filter_order_str, \"FIRLS\", firls_filter_coeffs)\n",
    "        \n",
    "        num_taps = filter_orders[filter_order_idx]\n",
    "        if num_taps <= 200:\n",
    "        \n",
    "            try:\n",
    "                remez_filter_coeffs = signal.remez(num_taps, [0, OUTPUT_SAMPLE_RATE, OUTPUT_SAMPLE_RATE+(INPUT_SAMPLE_RATE/2-OUTPUT_SAMPLE_RATE)/4, INPUT_SAMPLE_RATE/2], [1,0], Hz=INPUT_SAMPLE_RATE, maxiter=100)\n",
    "                output_fd.write(\"        },\\n\");\n",
    "                write_filter_info(output_fd, num_taps, filter_order_str, \"REMEZ\", remez_filter_coeffs)\n",
    "            except:\n",
    "                print(\"Unable to generate REMEZ coefficients (%u -> %u, %u taps)\" % (INPUT_SAMPLE_RATE, OUTPUT_SAMPLE_RATE, num_taps))\n",
    "                pass\n",
    "    \n",
    "        if resample_idx != (len(INPUT_SAMPLE_RATES) - 1) or filter_order_idx != (len(filter_orders) - 1):\n",
    "            output_fd.write(\"        },\\n\");\n",
    "        else:\n",
    "            output_fd.write(\"        }\\n\");"
   ]
  },
  {
   "cell_type": "code",
   "execution_count": 135,
   "metadata": {},
   "outputs": [],
   "source": [
    "# write the last part of the file\n",
    "for line in input_fd:\n",
    "    output_fd.write(line)\n",
    "        \n",
    "input_fd.close()\n",
    "output_fd.close()"
   ]
  },
  {
   "cell_type": "code",
   "execution_count": null,
   "metadata": {},
   "outputs": [],
   "source": []
  }
 ],
 "metadata": {
  "kernelspec": {
   "display_name": "Python 3",
   "language": "python",
   "name": "python3"
  },
  "language_info": {
   "codemirror_mode": {
    "name": "ipython",
    "version": 3
   },
   "file_extension": ".py",
   "mimetype": "text/x-python",
   "name": "python",
   "nbconvert_exporter": "python",
   "pygments_lexer": "ipython3",
   "version": "3.6.9"
  }
 },
 "nbformat": 4,
 "nbformat_minor": 2
}
