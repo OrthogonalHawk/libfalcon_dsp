{
 "cells": [
  {
   "cell_type": "markdown",
   "metadata": {},
   "source": [
    "# Generate FIR Filter Coefficients\n",
    "\n",
    "Demonstrates how to generate precomputed/predefined FIR filter coefficients for various resampling scenarios based on input and output sample rates. The coefficients are formatted in a convenient way to facilitate adding them to a C/C++ file as compile-time constants. "
   ]
  },
  {
   "cell_type": "code",
   "execution_count": 57,
   "metadata": {},
   "outputs": [],
   "source": [
    "from fractions import Fraction\n",
    "import numpy as np\n",
    "import os\n",
    "from scipy import signal"
   ]
  },
  {
   "cell_type": "code",
   "execution_count": 58,
   "metadata": {},
   "outputs": [],
   "source": [
    "INPUT_SAMPLE_RATES_STR = os.environ.get('INPUT_SAMPLE_RATE', '1140000,1140000,1000000,228000,200000')\n",
    "OUTPUT_SAMPLE_RATES_STR = os.environ.get('OUTPUT_SAMPLE_RATE', '228000,200000,200000,45600,44000')\n",
    "\n",
    "# convert from the string environment variables to other, more convenient, representations\n",
    "INPUT_SAMPLE_RATES = [int(x) for x in INPUT_SAMPLE_RATES_STR.split(',')]\n",
    "OUTPUT_SAMPLE_RATES = [int(x) for x in OUTPUT_SAMPLE_RATES_STR.split(',')]"
   ]
  },
  {
   "cell_type": "code",
   "execution_count": 59,
   "metadata": {},
   "outputs": [],
   "source": [
    "INPUT_TEMPLATE_FILE = \"../../hdr/transform/falcon_dsp_predefined_fir_filter_template.h\"\n",
    "OUTPUT_FILE = \"../../hdr/transform/falcon_dsp_predefined_fir_filter.h\"\n",
    "\n",
    "input_fd = open(INPUT_TEMPLATE_FILE, 'r')\n",
    "output_fd = open(OUTPUT_FILE, 'w')\n",
    "\n",
    "# write the first part of the file\n",
    "for line in input_fd:\n",
    "    if \"AUTO_GENERATED_COEFFICIENTS_HERE\" in line:\n",
    "        break\n",
    "    else:\n",
    "        output_fd.write(line)"
   ]
  },
  {
   "cell_type": "code",
   "execution_count": 60,
   "metadata": {},
   "outputs": [],
   "source": [
    "for resample_idx in range(len(INPUT_SAMPLE_RATES)):\n",
    "\n",
    "    INPUT_SAMPLE_RATE = INPUT_SAMPLE_RATES[resample_idx]\n",
    "    OUTPUT_SAMPLE_RATE = OUTPUT_SAMPLE_RATES[resample_idx]\n",
    "    \n",
    "    resampling_ratio = OUTPUT_SAMPLE_RATE / INPUT_SAMPLE_RATE\n",
    "    ratio = Fraction(\"%.12f\" % (resampling_ratio)).limit_denominator()\n",
    "    p = ratio.numerator\n",
    "    q = ratio.denominator\n",
    "    pqmax = max(p, q)\n",
    "\n",
    "    # cutoff frequency of the lowpass filter at the high (upsampled) rate\n",
    "    cutoff_freq = 1 / 2 / pqmax\n",
    "    filter_order = 2 * 10 * pqmax + 1\n",
    "    filter_delay = int((filter_order - 1) / p / 2)\n",
    "\n",
    "    filter_coeffs = float(p) * signal.firls(filter_order, [0, 2.0 * cutoff_freq, 2.0 * cutoff_freq, 1.0], [1.0, 1.0, 0.0, 0.0])\n",
    "    filter_coeffs = filter_coeffs * signal.kaiser(filter_order, beta=5)\n",
    "\n",
    "    # print 'header information'\n",
    "    output_fd.write(\"        /* INPUT_SAMPLE_RATE:   %12u sps\\n\" % INPUT_SAMPLE_RATE)\n",
    "    output_fd.write(\"         * OUTPUT_SAMPLE_RATE:  %12u sps\\n\" % OUTPUT_SAMPLE_RATE)\n",
    "    output_fd.write(\"         */\\n\")\n",
    "    output_fd.write(\"        {\\n\");\n",
    "    output_fd.write(\"            std::make_pair(%u, %u),\\n\" % (INPUT_SAMPLE_RATE, OUTPUT_SAMPLE_RATE))\n",
    "    output_fd.write(\"            {%u, /* up_rate */\\n\" % p)\n",
    "    output_fd.write(\"             %u, /* down_rate */\\n\" % q)\n",
    "    output_fd.write(\"             std::vector<std::complex<float>>{\\n\")\n",
    "    next_line = \"                 \"\n",
    "    for coeff_idx in range(len(filter_coeffs)):\n",
    "        next_line += \"{%+01.08f, %01.08f}\" % (filter_coeffs[coeff_idx].real, filter_coeffs[coeff_idx].imag)\n",
    "        if coeff_idx % 4 == 3:\n",
    "            output_fd.write(next_line + \",\\n\"); next_line = \"                 \"\n",
    "        else:\n",
    "            next_line += \", \"\n",
    "\n",
    "    output_fd.write(next_line[:-2])\n",
    "    output_fd.write(\"             }\\n\")\n",
    "    output_fd.write(\"            } /* end of %u sps -> %u sps */\\n\" % (INPUT_SAMPLE_RATE, OUTPUT_SAMPLE_RATE))\n",
    "    \n",
    "    if resample_idx != (len(INPUT_SAMPLE_RATES) - 1):\n",
    "        output_fd.write(\"        },\\n\");\n",
    "    else:\n",
    "        output_fd.write(\"        }\\n\");"
   ]
  },
  {
   "cell_type": "code",
   "execution_count": 61,
   "metadata": {},
   "outputs": [],
   "source": [
    "# write the last part of the file\n",
    "for line in input_fd:\n",
    "    output_fd.write(line)\n",
    "        \n",
    "input_fd.close()\n",
    "output_fd.close()"
   ]
  },
  {
   "cell_type": "code",
   "execution_count": null,
   "metadata": {},
   "outputs": [],
   "source": []
  }
 ],
 "metadata": {
  "kernelspec": {
   "display_name": "Python 3",
   "language": "python",
   "name": "python3"
  },
  "language_info": {
   "codemirror_mode": {
    "name": "ipython",
    "version": 3
   },
   "file_extension": ".py",
   "mimetype": "text/x-python",
   "name": "python",
   "nbconvert_exporter": "python",
   "pygments_lexer": "ipython3",
   "version": "3.6.9"
  }
 },
 "nbformat": 4,
 "nbformat_minor": 2
}
