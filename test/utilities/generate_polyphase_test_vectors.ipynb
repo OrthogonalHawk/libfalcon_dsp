{
 "cells": [
  {
   "cell_type": "raw",
   "metadata": {},
   "source": [
    "###############################################################################\n",
    "#\n",
    "# MIT License\n",
    "#\n",
    "# Copyright (c) 2019 OrthogonalHawk\n",
    "# Permission is hereby granted, free of charge, to any person obtaining a copy\n",
    "# of this software and associated documentation files (the \"Software\"), to\n",
    "# deal in the Software without restriction, including without limitation the\n",
    "# rights to use, copy, modify, merge, publish, distribute, sublicense, and/or\n",
    "# sell copies of the Software, and to permit persons to whom the Software is\n",
    "# furnished to do so, subject to the following conditions:\n",
    "#\n",
    "# The above copyright notice and this permission notice shall be included in\n",
    "# all copies or substantial portions of the Software.\n",
    "#\n",
    "# THE SOFTWARE IS PROVIDED \"AS IS\", WITHOUT WARRANTY OF ANY KIND, EXPRESS OR\n",
    "# IMPLIED, INCLUDING BUT NOT LIMITED TO THE WARRANTIES OF MERCHANTABILITY,\n",
    "# FITNESS FOR A PARTICULAR PURPOSE AND NONINFRINGEMENT. IN NO EVENT SHALL THE\n",
    "# AUTHORS OR COPYRIGHT HOLDERS BE LIABLE FOR ANY CLAIM, DAMAGES OR OTHER\n",
    "# LIABILITY, WHETHER IN AN ACTION OF CONTRACT, TORT OR OTHERWISE, ARISING\n",
    "# FROM, OUT OF OR IN CONNECTION WITH THE SOFTWARE OR THE USE OR OTHER DEALINGS\n",
    "# IN THE SOFTWARE.\n",
    "#\n",
    "###############################################################################\n",
    "\n",
    "###############################################################################\n",
    "#\n",
    "# @file     generate_polyphase_test_vectors.ipynb\n",
    "# @author   OrthogonalHawk\n",
    "# @date     27-May-2019\n",
    "#\n",
    "# @brief    Generates polyphase filter test vectors.\n",
    "#\n",
    "# @section  DESCRIPTION\n",
    "#\n",
    "# Utility script used to generate various polyphase filter vectors to support\n",
    "#  the FALCON Digital Signal Processing unit test suite.\n",
    "#\n",
    "# @section  HISTORY\n",
    "#\n",
    "# 27-May-2019  OrthogonalHawk  File created.\n",
    "#\n",
    "###############################################################################"
   ]
  },
  {
   "cell_type": "markdown",
   "metadata": {},
   "source": [
    "## Overview\n",
    "This notebook is used to generate various test vectors to support FALCON Digital Signal Processing unit tests. Vectors include: Finite Impulse Response (FIR) filter coefficients, raw complex input data, and raw complex output data.\n",
    "\n",
    "## Constants\n",
    "This notebook supports configurable behavior through environment variables, which in turn modify the notebook-level constants specified here."
   ]
  },
  {
   "cell_type": "code",
   "execution_count": 2,
   "metadata": {},
   "outputs": [],
   "source": [
    "from fractions import Fraction\n",
    "import logging\n",
    "from matplotlib import pyplot as plt\n",
    "%matplotlib inline\n",
    "import numpy as np\n",
    "import os\n",
    "from scipy import signal\n",
    "import struct"
   ]
  },
  {
   "cell_type": "code",
   "execution_count": 3,
   "metadata": {},
   "outputs": [],
   "source": [
    "FREQ_SHIFT_STR = os.environ.get('FREQ_SHIFT', '100000')\n",
    "INPUT_SAMPLE_RATE_STR = os.environ.get('INPUT_SAMPLE_RATE', '1000000')\n",
    "OUTPUT_SAMPLE_RATE_STR = os.environ.get('OUTPUT_SAMPLE_RATE', '1000000')\n",
    "NUM_OUTPUT_SAMPLES_STR = os.environ.get('NUM_OUTPUT_SAMPLES', '1000000')\n",
    "VERBOSE_LOGGING_STR = os.environ.get('VERBOSE', '0')\n",
    "OUTPUT_FILE_BASE_NAME = os.environ.get('OUT_FILE_NAME', 'polyphase_test_vector')\n",
    "GENERATE_RAMP_FILE_STR = os.environ.get('RAMP_OUTPUT', '0')\n",
    "\n",
    "# convert from the string environment variables to other, more convenient, representations\n",
    "FREQ_SHIFT = float(FREQ_SHIFT_STR)\n",
    "INPUT_SAMPLE_RATE = float(INPUT_SAMPLE_RATE_STR)\n",
    "OUTPUT_SAMPLE_RATE = float(OUTPUT_SAMPLE_RATE_STR)\n",
    "NUM_OUTPUT_SAMPLES = int(NUM_OUTPUT_SAMPLES_STR)\n",
    "GENERATE_RAMP_FILE = int(GENERATE_RAMP_FILE_STR)\n",
    "\n",
    "INPUT_VEC_FILE_NAME = OUTPUT_FILE_BASE_NAME + \"_x.bin\"\n",
    "OUTPUT_VEC_FILE_NAME = OUTPUT_FILE_BASE_NAME + \"_y.bin\"\n",
    "FILTER_COEFFS_FILE_NAME = OUTPUT_FILE_BASE_NAME + \".filter_coeffs.txt\"\n",
    "    \n",
    "VERBOSE_LOGGING = True\n",
    "if VERBOSE_LOGGING_STR is not \"1\":\n",
    "    VERBOSE_LOGGING = False"
   ]
  },
  {
   "cell_type": "markdown",
   "metadata": {},
   "source": [
    "## Logging\n",
    "Use the Python *logging* module for basic logging. Configure the logging level based on the provided command-line arguments."
   ]
  },
  {
   "cell_type": "code",
   "execution_count": 4,
   "metadata": {},
   "outputs": [],
   "source": [
    "logging_level = logging.INFO\n",
    "if VERBOSE_LOGGING:\n",
    "    logging_level = logging.DEBUG\n",
    "logging.basicConfig(format='%(levelname)s:%(message)s', level=logging_level)"
   ]
  },
  {
   "cell_type": "code",
   "execution_count": 5,
   "metadata": {},
   "outputs": [
    {
     "name": "stderr",
     "output_type": "stream",
     "text": [
      "INFO:####################\n",
      "INFO:# FREQ_SHIFT              = 100000.000000\n",
      "INFO:# INPUT_SAMPLE_RATE       = 1000000.000000\n",
      "INFO:# OUTPUT_SAMPLE_RATE      = 1000000.000000\n",
      "INFO:# NUM_OUTPUT_SAMPLES      = 1000000\n",
      "INFO:# RAMP_OUTPUT             = 0\n",
      "INFO:# INPUT_FILE_NAME         = polyphase_test_vector_x.bin\n",
      "INFO:# OUTPUT_FILE_NAME        = polyphase_test_vector_y.bin\n",
      "INFO:# FILTER_COEFFS_FILE_NAME = polyphase_test_vector.filter_coeffs.txt\n",
      "INFO:####################\n"
     ]
    }
   ],
   "source": [
    "logging.info(\"####################\")\n",
    "logging.info(\"# FREQ_SHIFT              = %f\" % (FREQ_SHIFT))\n",
    "logging.info(\"# INPUT_SAMPLE_RATE       = %f\" % (INPUT_SAMPLE_RATE))\n",
    "logging.info(\"# OUTPUT_SAMPLE_RATE      = %f\" % (OUTPUT_SAMPLE_RATE))\n",
    "logging.info(\"# NUM_OUTPUT_SAMPLES      = %u\" % (NUM_OUTPUT_SAMPLES))\n",
    "logging.info(\"# RAMP_OUTPUT             = %u\" % (GENERATE_RAMP_FILE))\n",
    "logging.info(\"# INPUT_FILE_NAME         = %s\" % (INPUT_VEC_FILE_NAME))\n",
    "logging.info(\"# OUTPUT_FILE_NAME        = %s\" % (OUTPUT_VEC_FILE_NAME))\n",
    "logging.info(\"# FILTER_COEFFS_FILE_NAME = %s\" % (FILTER_COEFFS_FILE_NAME))\n",
    "logging.info(\"####################\")"
   ]
  },
  {
   "cell_type": "markdown",
   "metadata": {},
   "source": [
    "## Design a Low Pass Filter\n",
    "The objective is to use the *upfirdn* function so we need to convert the decimal resampling ratio into a fraction. From there, we can design a Finite Impulse Response (FIR) filter that meets our needs.\n",
    "\n",
    "See the following excerpt from **Boaz Porat, A Course in Digital Signal Processing**:\n",
    "> \"The low-pass filter performs both interpolation of the expanded signal\n",
    "    and antialiasing. If the sample rate is to be increased, then p > q. THe\n",
    "    low pass filter should then have a cutoff frequency of pi/p. If the\n",
    "    sampling rate is to be decreased, then p < q. The low-pass filter should\n",
    "    then have a cutoff frequency pi/q. IN this case the filter will\n",
    "    eliminate a part of the signals frequency contents of the original\n",
    "    bandwidth if its original bandwidth is higher than pip/q. Thus, the\n",
    "    sampling rate conversion filter should always have a cutoff frequency\n",
    "    of pi/max{p,q}.\""
   ]
  },
  {
   "cell_type": "code",
   "execution_count": 6,
   "metadata": {},
   "outputs": [
    {
     "name": "stderr",
     "output_type": "stream",
     "text": [
      "INFO:Input Sample Rate: 1000000 Hz\n",
      "INFO:Output Sample Rate: 1000000 Hz\n",
      "INFO:Resampling Ratio 1.000000\n",
      "INFO:Resampling Ratio: 1/1, pqmax=1\n",
      "INFO:Cutoff Freq: 0.250000, Filter Order: 21 Filter Delay: 10\n",
      "INFO:Write filter coefficients to polyphase_test_vector.filter_coeffs.txt\n",
      "/usr/lib/python3/dist-packages/matplotlib/cbook/deprecation.py:106: MatplotlibDeprecationWarning: Adding an axes using the same arguments as a previous axes currently reuses the earlier instance.  In a future version, a new instance will always be created and returned.  Meanwhile, this warning can be suppressed, and the future behavior ensured, by passing a unique label to each axes instance.\n",
      "  warnings.warn(message, mplDeprecation, stacklevel=1)\n"
     ]
    },
    {
     "data": {
      "image/png": "[encoded data removed]",
      "text/plain": [
       "<matplotlib.figure.Figure at 0x7f7947bc88>"
      ]
     },
     "metadata": {
      "needs_background": "light"
     },
     "output_type": "display_data"
    }
   ],
   "source": [
    "logging.info(\"Input Sample Rate: %d Hz\" % (INPUT_SAMPLE_RATE))\n",
    "logging.info(\"Output Sample Rate: %d Hz\" % (OUTPUT_SAMPLE_RATE))\n",
    "\n",
    "resampling_ratio = OUTPUT_SAMPLE_RATE / INPUT_SAMPLE_RATE\n",
    "logging.info(\"Resampling Ratio %f\" % (resampling_ratio))\n",
    "ratio = Fraction(resampling_ratio).limit_denominator()\n",
    "p = ratio.numerator\n",
    "q = ratio.denominator\n",
    "pqmax = max(p, q)\n",
    "logging.info(\"Resampling Ratio: %d/%d, pqmax=%d\" % (p, q, pqmax))\n",
    "\n",
    "if int(p) != 1 or q != 1:\n",
    "\n",
    "    # cutoff frequency of the lowpass filter at the high (upsampled) rate\n",
    "    cutoff_freq = 1 / 2 / pqmax\n",
    "    filter_order = 2 * 10 * pqmax + 1\n",
    "    filter_delay = 0 # filtering is bypassed in this mode\n",
    "    \n",
    "else:\n",
    "    \n",
    "    # cutoff frequency of the lowpass filter at the high (upsampled) rate\n",
    "    cutoff_freq = 0.25\n",
    "    filter_order = 2 * 10 * pqmax + 1\n",
    "    filter_delay = int((filter_order - 1) / p / 2)\n",
    "\n",
    "logging.info(\"Cutoff Freq: %f, Filter Order: %u Filter Delay: %u\" % (cutoff_freq, filter_order, filter_delay))\n",
    "\n",
    "filter_coeffs = signal.firls(filter_order, [0, 2 * cutoff_freq, 2 * cutoff_freq, 1], [1, 1, 0, 0])\n",
    "filter_coeffs = filter_coeffs * signal.kaiser(filter_order, beta=5)\n",
    "\n",
    "filter_coeffs_file = open(FILTER_COEFFS_FILE_NAME, 'w')\n",
    "for coeff in filter_coeffs:\n",
    "    filter_coeffs_file.write(\"%0.12f %0.12f\\n\" % (coeff.real, coeff.imag))\n",
    "    \n",
    "filter_coeffs_file.close()\n",
    "\n",
    "logging.info(\"Write filter coefficients to %s\" % (FILTER_COEFFS_FILE_NAME))\n",
    "\n",
    "# visualize the filter response\n",
    "w, h = signal.freqz(filter_coeffs)\n",
    "fig = plt.figure()\n",
    "plt.title('Digital filter frequency response')\n",
    "ax1 = fig.add_subplot(111)\n",
    "\n",
    "plt.plot(w, 20 * np.log10(abs(h)), 'b')\n",
    "plt.ylabel('Amplitude [dB]', color='b')\n",
    "plt.xlabel('Frequency [rad/sample]')\n",
    "\n",
    "ax2 = ax1.twinx()\n",
    "angles = np.unwrap(np.angle(h))\n",
    "plt.plot(w, angles, 'g')\n",
    "plt.ylabel('Angle (radians)', color='g')\n",
    "plt.grid()\n",
    "plt.axis('tight')\n",
    "plt.show()"
   ]
  },
  {
   "cell_type": "markdown",
   "metadata": {},
   "source": [
    "## Create a Complex Sinusoid"
   ]
  },
  {
   "cell_type": "code",
   "execution_count": 14,
   "metadata": {},
   "outputs": [
    {
     "name": "stderr",
     "output_type": "stream",
     "text": [
      "INFO:Test tone freq=100000 Hz\n",
      "INFO:Frequency shifted output from 100000 Hz to 200000 Hz\n",
      "INFO:Input vector length=1000000, Output vector length=1000000\n"
     ]
    },
    {
     "name": "stdout",
     "output_type": "stream",
     "text": [
      "6.283185307179586\n",
      "6.283185307179586\n",
      "417216\n",
      "262144.544112\n",
      "(-0.809016994373-0.587785252296j)\n"
     ]
    }
   ],
   "source": [
    "## for fractional upsampling put the test tone closer to DC so that there\n",
    "#  is more definition to the graphed original signal\n",
    "us_test_tone_freq = (INPUT_SAMPLE_RATE * 0.3) / 2\n",
    "\n",
    "# for fractional downsampling put the test tone at the outer edge of the\n",
    "#  expected passband in order to verify that the filter is working\n",
    "#  correctly and does not attenuate the input signal too badly\n",
    "ds_test_tone_freq = (OUTPUT_SAMPLE_RATE * 0.4) / 2\n",
    "\n",
    "# pick the minimum value\n",
    "test_tone_freq = float(min(us_test_tone_freq, ds_test_tone_freq))\n",
    "\n",
    "# adjust if we're not actually resampling\n",
    "if p == 1 and q == 1:\n",
    "    test_tone_freq = float(INPUT_SAMPLE_RATE * 0.1)\n",
    "\n",
    "logging.info(\"Test tone freq=%u Hz\" % (test_tone_freq))\n",
    "\n",
    "SIGNAL_SCALE = 1024\n",
    "NUM_INPUT_SAMPLES = int(NUM_OUTPUT_SAMPLES * q / p)\n",
    "t = np.arange(0, NUM_INPUT_SAMPLES, dtype=np.uint32)\n",
    "x = SIGNAL_SCALE * np.exp(1j * 2 * np.pi * t * float(test_tone_freq/INPUT_SAMPLE_RATE))\n",
    "\n",
    "# add a small amount of noise\n",
    "noise_power = 0.001 * INPUT_SAMPLE_RATE / 2\n",
    "x += np.random.normal(scale=np.sqrt(noise_power), size=t.shape)\n",
    "\n",
    "if p == 1 and q == 1:\n",
    "    \n",
    "    # if not resampling, then just frequency shift\n",
    "    fs_vec = np.exp(1j * 2 * np.pi * t * (FREQ_SHIFT/INPUT_SAMPLE_RATE))\n",
    "    y = x * fs_vec\n",
    "    \n",
    "    print(2 * np.pi)\n",
    "    print(float(2 * np.pi))\n",
    "    print(t[417216])\n",
    "    print(t[417216] * (FREQ_SHIFT/INPUT_SAMPLE_RATE) * 2 * np.pi)\n",
    "    print(fs_vec[417216])\n",
    "    logging.info(\"Frequency shifted output from %d Hz to %d Hz\" % (test_tone_freq, test_tone_freq + FREQ_SHIFT))\n",
    "    \n",
    "else:\n",
    "    \n",
    "    # resample using the computed values\n",
    "    y = signal.upfirdn(filter_coeffs, x, p, q)\n",
    "\n",
    "    logging.info(\"Generated %u resampled samples from %u input samples\" % (len(y), len(x)))\n",
    "    \n",
    "logging.info(\"Input vector length=%u, Output vector length=%u\" % (len(x), len(y)))"
   ]
  },
  {
   "cell_type": "markdown",
   "metadata": {},
   "source": [
    "### Save the Input and Output Vectors"
   ]
  },
  {
   "cell_type": "code",
   "execution_count": null,
   "metadata": {},
   "outputs": [],
   "source": [
    "if GENERATE_RAMP_FILE:\n",
    "    logging.info(\"Generating RAMP file output\")\n",
    "else:\n",
    "    logging.info(\"Saving Original and Resampled vectors\")\n",
    "\n",
    "# save the input \"x\" vector file\n",
    "input_vec_file = open(INPUT_VEC_FILE_NAME, 'wb')\n",
    "\n",
    "num_samples_processed = 0\n",
    "for val in x:\n",
    "    \n",
    "    if GENERATE_RAMP_FILE:\n",
    "        real_val = num_samples_processed % 128\n",
    "        imag_val = -(num_samples_processed % 128)\n",
    "    else:\n",
    "        real_val = int(val.real)\n",
    "        imag_val = int(val.imag)\n",
    "    \n",
    "    # pack as little endian format using shorts (int16_t)\n",
    "    input_vec_file.write(struct.pack('<2h', real_val, imag_val))\n",
    "    \n",
    "    num_samples_processed += 1\n",
    "    \n",
    "input_vec_file.close()\n",
    "\n",
    "# save the output \"y\" vector file\n",
    "output_vec_file = open(OUTPUT_VEC_FILE_NAME, 'wb')\n",
    "\n",
    "num_samples_processed = 0\n",
    "for val in y:\n",
    "    \n",
    "    if GENERATE_RAMP_FILE:\n",
    "        real_val = num_samples_processed % 128\n",
    "        imag_val = -(num_samples_processed % 128)\n",
    "    else:\n",
    "        real_val = int(val.real)\n",
    "        imag_val = int(val.imag)\n",
    "    \n",
    "    # pack as little endian format using shorts (int16_t)\n",
    "    output_vec_file.write(struct.pack('<2h', real_val, imag_val))\n",
    "    \n",
    "    num_samples_processed += 1\n",
    "    \n",
    "output_vec_file.close()"
   ]
  },
  {
   "cell_type": "markdown",
   "metadata": {},
   "source": [
    "### Time Series Plot\n",
    "Plot the input and resampled time series data to visually verify that it has been resampled as expected."
   ]
  },
  {
   "cell_type": "code",
   "execution_count": null,
   "metadata": {},
   "outputs": [],
   "source": [
    "NUM_INPUT_SAMPLES_TO_PLOT = 512\n",
    "if NUM_INPUT_SAMPLES_TO_PLOT > len(x):\n",
    "    NUM_INPUT_SAMPLES_TO_PLOT = len(x)\n",
    "\n",
    "NUM_OUTPUT_SAMPLES_TO_PLOT = int(NUM_INPUT_SAMPLES_TO_PLOT * p / q)\n",
    "\n",
    "logging.info(\"Plotting %u input and %u output samples\" % (NUM_INPUT_SAMPLES_TO_PLOT, NUM_OUTPUT_SAMPLES_TO_PLOT))\n",
    "\n",
    "resampled_t = np.arange(0, len(y)) * q / p - filter_delay\n",
    "\n",
    "plt.figure(figsize=(20, 16))\n",
    "plt.subplot(2,1,1)\n",
    "plt.plot(t[:NUM_INPUT_SAMPLES_TO_PLOT], x[:NUM_INPUT_SAMPLES_TO_PLOT].real, '-bo')\n",
    "plt.plot(resampled_t[:NUM_OUTPUT_SAMPLES_TO_PLOT], y[:NUM_OUTPUT_SAMPLES_TO_PLOT].real, '-xr')\n",
    "plt.xlabel('t')\n",
    "plt.ylabel('Re x(t)')\n",
    "plt.title(r'Real part of  $x(t)=e^{j 2 \\pi f t}$');\n",
    "plt.grid(True)\n",
    "\n",
    "plt.subplot(2,1,2)\n",
    "plt.plot(t[:NUM_INPUT_SAMPLES_TO_PLOT], x[:NUM_INPUT_SAMPLES_TO_PLOT].imag, '-bo')\n",
    "plt.plot(resampled_t[:NUM_OUTPUT_SAMPLES_TO_PLOT], y[:NUM_OUTPUT_SAMPLES_TO_PLOT].imag, '-xr')\n",
    "plt.xlabel('t')\n",
    "plt.ylabel('Im x(t)')\n",
    "plt.title(r'Imaginary part of  $x(t)=e^{j 2 \\pi f t}$');\n",
    "plt.grid(True)\n",
    "\n",
    "plt.tight_layout()\n",
    "plt.show()"
   ]
  },
  {
   "cell_type": "markdown",
   "metadata": {},
   "source": [
    "### Spectrogram Plot"
   ]
  },
  {
   "cell_type": "code",
   "execution_count": null,
   "metadata": {},
   "outputs": [],
   "source": [
    "FFT_SIZE = 1024\n",
    "plt.figure(figsize=(16, 10))\n",
    "\n",
    "plt.subplot(4,1,1)\n",
    "Pxx, freqs, bins, im = plt.specgram(x, NFFT=FFT_SIZE, Fs=INPUT_SAMPLE_RATE)\n",
    "plt.ylabel('Frequency [Hz]')\n",
    "plt.xlabel('Time [sec]')\n",
    "\n",
    "plt.subplot(4,1,2)\n",
    "f = np.abs(np.fft.fftshift(np.fft.fft(x, FFT_SIZE)))\n",
    "f = 10 * np.log10(f)\n",
    "plt.plot(f)\n",
    "plt.xlabel('frequency [Hz]')\n",
    "plt.ylabel('PSD (dB)')\n",
    "plt.grid(True)\n",
    "\n",
    "plt.subplot(4,1,3)\n",
    "Pxx, freqs, bins, im = plt.specgram(y[filter_delay:], NFFT=FFT_SIZE, Fs=OUTPUT_SAMPLE_RATE)\n",
    "plt.ylabel('Frequency [Hz]')\n",
    "plt.xlabel('Time [sec]')\n",
    "\n",
    "plt.subplot(4,1,4)\n",
    "f = np.abs(np.fft.fftshift(np.fft.fft(y[filter_delay:], FFT_SIZE)))\n",
    "f = 10 * np.log10(f)\n",
    "plt.plot(f[1:])\n",
    "plt.xlabel('frequency [Hz]')\n",
    "plt.ylabel('PSD dB')\n",
    "plt.grid(True)\n",
    "\n",
    "plt.tight_layout()\n",
    "plt.show()"
   ]
  },
  {
   "cell_type": "code",
   "execution_count": null,
   "metadata": {},
   "outputs": [],
   "source": []
  }
 ],
 "metadata": {
  "kernelspec": {
   "display_name": "Python 3",
   "language": "python",
   "name": "python3"
  },
  "language_info": {
   "codemirror_mode": {
    "name": "ipython",
    "version": 3
   },
   "file_extension": ".py",
   "mimetype": "text/x-python",
   "name": "python",
   "nbconvert_exporter": "python",
   "pygments_lexer": "ipython3",
   "version": "3.6.7"
  }
 },
 "nbformat": 4,
 "nbformat_minor": 2
}
