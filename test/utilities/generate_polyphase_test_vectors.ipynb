{
 "cells": [
  {
   "cell_type": "raw",
   "metadata": {},
   "source": [
    "###############################################################################\n",
    "#\n",
    "# MIT License\n",
    "#\n",
    "# Copyright (c) 2019 OrthogonalHawk\n",
    "# Permission is hereby granted, free of charge, to any person obtaining a copy\n",
    "# of this software and associated documentation files (the \"Software\"), to\n",
    "# deal in the Software without restriction, including without limitation the\n",
    "# rights to use, copy, modify, merge, publish, distribute, sublicense, and/or\n",
    "# sell copies of the Software, and to permit persons to whom the Software is\n",
    "# furnished to do so, subject to the following conditions:\n",
    "#\n",
    "# The above copyright notice and this permission notice shall be included in\n",
    "# all copies or substantial portions of the Software.\n",
    "#\n",
    "# THE SOFTWARE IS PROVIDED \"AS IS\", WITHOUT WARRANTY OF ANY KIND, EXPRESS OR\n",
    "# IMPLIED, INCLUDING BUT NOT LIMITED TO THE WARRANTIES OF MERCHANTABILITY,\n",
    "# FITNESS FOR A PARTICULAR PURPOSE AND NONINFRINGEMENT. IN NO EVENT SHALL THE\n",
    "# AUTHORS OR COPYRIGHT HOLDERS BE LIABLE FOR ANY CLAIM, DAMAGES OR OTHER\n",
    "# LIABILITY, WHETHER IN AN ACTION OF CONTRACT, TORT OR OTHERWISE, ARISING\n",
    "# FROM, OUT OF OR IN CONNECTION WITH THE SOFTWARE OR THE USE OR OTHER DEALINGS\n",
    "# IN THE SOFTWARE.\n",
    "#\n",
    "###############################################################################\n",
    "\n",
    "###############################################################################\n",
    "#\n",
    "# @file     generate_polyphase_test_vectors.ipynb\n",
    "# @author   OrthogonalHawk\n",
    "# @date     27-May-2019\n",
    "#\n",
    "# @brief    Generates polyphase filter test vectors.\n",
    "#\n",
    "# @section  DESCRIPTION\n",
    "#\n",
    "# Utility script used to generate various polyphase filter vectors to support\n",
    "#  the FALCON Digital Signal Processing unit test suite.\n",
    "#\n",
    "# @section  HISTORY\n",
    "#\n",
    "# 27-May-2019  OrthogonalHawk  File created.\n",
    "#\n",
    "###############################################################################"
   ]
  },
  {
   "cell_type": "markdown",
   "metadata": {},
   "source": [
    "## Overview\n",
    "This notebook is used to generate various test vectors to support FALCON Digital Signal Processing unit tests. Vectors include: Finite Impulse Response (FIR) filter coefficients, raw complex input data, and raw complex output data.\n",
    "\n",
    "## Constants\n",
    "This notebook supports configurable behavior through environment variables, which in turn modify the notebook-level constants specified here. See [documentation](https://pythonhosted.org/jupyter_runner/) for an example of how to run the notebook with various environment variable configurations (excerpt shown here).\n",
    "\n",
    "#### How-to: Run notebook with multiple sets of parameters\n",
    "Create a file with multiple set of parameters, one set of parameters per line.\n",
    "\n",
    "Example file containing 2 sets of 3 parameters:\n",
    "\n",
    "VAR1=VAL1 VAR2=VAL2 VAR3=VAL3\n",
    "VAR1=VAL5 VAR2=VAL18 VAR3='VAL42 with space'\n",
    "Then run jupyter-run specifying the path to my_parameter_file just created:\n",
    "\n",
    "`jupyter-run --parameter-file=my_parameter_file notebook.ipynb`\n",
    "\n",
    "By default, the process creates output files notebook_1.html and notebook_2.html in current directory.\n",
    "\n",
    "## Python Imports"
   ]
  },
  {
   "cell_type": "code",
   "execution_count": null,
   "metadata": {},
   "outputs": [],
   "source": [
    "from fractions import Fraction\n",
    "import logging\n",
    "from matplotlib import pyplot as plt\n",
    "%matplotlib inline\n",
    "import numpy as np\n",
    "import os\n",
    "from scipy import signal"
   ]
  },
  {
   "cell_type": "code",
   "execution_count": null,
   "metadata": {},
   "outputs": [],
   "source": [
    "FREQ_SHIFT_STR = os.environ.get('FREQ_SHIFT', '0')\n",
    "INPUT_SAMPLE_RATE_STR = os.environ.get('INPUT_SAMPLE_RATE', '1000000')\n",
    "OUTPUT_SAMPLE_RATE_STR = os.environ.get('OUTPUT_SAMPLE_RATE', '100000')\n",
    "NUM_SAMPLES_STR = os.environ.get('NUM_OUTPUT_SAMPLES', '10000')\n",
    "SHOW_GRAPHS_FLAG_STR = os.environ.get('SHOW_GRAPHS', '0')\n",
    "VERBOSE_LOGGING_STR = os.environ.get('VERBOSE', '0')\n",
    "\n",
    "# convert from the string environment variables to other, more convenient, representations\n",
    "FREQ_SHIFT = float(FREQ_SHIFT_STR)\n",
    "INPUT_SAMPLE_RATE = float(INPUT_SAMPLE_RATE_STR)\n",
    "OUTPUT_SAMPLE_RATE = float(OUTPUT_SAMPLE_RATE_STR)\n",
    "NUM_SAMPLES = int(NUM_SAMPLES_STR)\n",
    "\n",
    "SHOW_GRAPHS_FLAG = True\n",
    "if SHOW_GRAPHS_FLAG_STR is not \"1\":\n",
    "    SHOW_GRAPHS_FLAG = False\n",
    "    \n",
    "VERBOSE_LOGGING = True\n",
    "if VERBOSE_LOGGING_STR is not \"1\":\n",
    "    VERBOSE_LOGGING = False"
   ]
  },
  {
   "cell_type": "markdown",
   "metadata": {},
   "source": [
    "## Logging\n",
    "Use the Python *logging* module for basic logging. Configure the logging level based on the provided command-line arguments."
   ]
  },
  {
   "cell_type": "code",
   "execution_count": null,
   "metadata": {},
   "outputs": [],
   "source": [
    "logging_level = logging.INFO\n",
    "if VERBOSE_LOGGING:\n",
    "    logging_level = logging.DEBUG\n",
    "logging.basicConfig(format='%(levelname)s:%(message)s', level=logging_level)"
   ]
  },
  {
   "cell_type": "markdown",
   "metadata": {},
   "source": [
    "## Design a Low Pass Filter\n",
    "The objective is to use the *upfirdn* function so we need to convert the decimal resampling ratio into a fraction. From there, we can design a Finite Impulse Response (FIR) filter that meets our needs.\n",
    "\n",
    "See the following excerpt from **Boaz Porat, A Course in Digital Signal Processing**:\n",
    "> \"The low-pass filter performs both interpolation of the expanded signal\n",
    "    and antialiasing. If the sample rate is to be increased, then p > q. THe\n",
    "    low pass filter should then have a cutoff frequency of pi/p. If the\n",
    "    sampling rate is to be decreased, then p < q. The low-pass filter should\n",
    "    then have a cutoff frequency pi/q. IN this case the filter will\n",
    "    eliminate a part of the signals frequency contents of the original\n",
    "    bandwidth if its original bandwidth is higher than pip/q. Thus, the\n",
    "    sampling rate conversion filter should always have a cutoff frequency\n",
    "    of pi/max{p,q}.\""
   ]
  },
  {
   "cell_type": "code",
   "execution_count": null,
   "metadata": {},
   "outputs": [],
   "source": [
    "logging.info(\"Input Sample Rate: %d Hz\" % (INPUT_SAMPLE_RATE))\n",
    "logging.info(\"Output Sample Rate: %d Hz\" % (OUTPUT_SAMPLE_RATE))\n",
    "\n",
    "resampling_ratio = OUTPUT_SAMPLE_RATE / INPUT_SAMPLE_RATE\n",
    "logging.info(\"Resampling Ratio %f\" % (resampling_ratio))\n",
    "ratio = Fraction(resampling_ratio).limit_denominator()\n",
    "p = ratio.numerator\n",
    "q = ratio.denominator\n",
    "pqmax = max(p, q)\n",
    "logging.info(\"Resampling Ratio: %d/%d, pqmax=%d\" % (p, q, pqmax))\n",
    "\n",
    "# cutoff frequency of the lowpass filter at the high (upsampled) rate\n",
    "cutoff_freq = 1 / 2 / pqmax\n",
    "filter_order = 2 * 10 * pqmax + 1\n",
    "filter_delay = (filter_order - 1) / p / 2\n",
    "\n",
    "logging.info(\"Cutoff Freq: %f, Filter Order: %u Filter Delay: %u\" % (cutoff_freq, filter_order, filter_delay))\n",
    "\n",
    "filter_coeffs = signal.firls(filter_order, [0, 2 * cutoff_freq, 2 * cutoff_freq, 1], [1, 1, 0, 0])\n",
    "filter_coeffs = filter_coeffs * signal.kaiser(filter_order, beta=5)\n",
    "\n",
    "# TODO write filter coefficients to file\n",
    "\n",
    "# visualize the filter response\n",
    "w, h = signal.freqz(filter_coeffs)\n",
    "fig = plt.figure()\n",
    "plt.title('Digital filter frequency response')\n",
    "ax1 = fig.add_subplot(111)\n",
    "\n",
    "plt.plot(w, 20 * np.log10(abs(h)), 'b')\n",
    "plt.ylabel('Amplitude [dB]', color='b')\n",
    "plt.xlabel('Frequency [rad/sample]')\n",
    "\n",
    "ax2 = ax1.twinx()\n",
    "angles = np.unwrap(np.angle(h))\n",
    "plt.plot(w, angles, 'g')\n",
    "plt.ylabel('Angle (radians)', color='g')\n",
    "plt.grid()\n",
    "plt.axis('tight')\n",
    "plt.show()"
   ]
  },
  {
   "cell_type": "markdown",
   "metadata": {},
   "source": [
    "## Create a Complex Sinusoid"
   ]
  },
  {
   "cell_type": "code",
   "execution_count": null,
   "metadata": {},
   "outputs": [],
   "source": [
    "# for fractional upsampling put the test tone closer to DC so that there\n",
    "#  is more definition to the graphed original signal\n",
    "us_test_tone_freq = (INPUT_SAMPLE_RATE * 0.3) / 2\n",
    "\n",
    "# for fractional downsampling put the test tone at the outer edge of the\n",
    "#  expected passband in order to verify that the filter is working\n",
    "#  correctly and does not attenuate the input signal too badly\n",
    "ds_test_tone_freq = (OUTPUT_SAMPLE_RATE * 0.5) / 2\n",
    "\n",
    "test_tone_freq = float(min(us_test_tone_freq, ds_test_tone_freq))\n",
    "test_tone_freq = 1000\n",
    "logging.info(\"Test tone freq=%u Hz\" % (test_tone_freq))\n",
    "\n",
    "SIGNAL_SCALE = 1024\n",
    "t = np.arange(0, NUM_SAMPLES)\n",
    "x = SIGNAL_SCALE * np.exp(1j * 2 * np.pi * t * (test_tone_freq/INPUT_SAMPLE_RATE))\n",
    "\n",
    "# now frequency shift by the requested amount\n",
    "fs_vec = np.exp(1j * 2 * np.pi * t * (FREQ_SHIFT/INPUT_SAMPLE_RATE))\n",
    "x = x * fs_vec\n",
    "\n",
    "# resample using the computed values\n",
    "y = signal.upfirdn(filter_coeffs, x, p, q)"
   ]
  },
  {
   "cell_type": "markdown",
   "metadata": {},
   "source": [
    "### Time Series Plot"
   ]
  },
  {
   "cell_type": "code",
   "execution_count": null,
   "metadata": {},
   "outputs": [],
   "source": [
    "resampled_t = (np.arange(0, NUM_SAMPLES * p / q) * (p / q)) - filter_delay\n",
    "\n",
    "plt.figure(figsize=(10, 8))\n",
    "plt.subplot(2,1,1)\n",
    "plt.plot(t, x.real, 'b')\n",
    "plt.plot(resampled_t, y.real, '-xr')\n",
    "plt.xlabel('t')\n",
    "plt.ylabel('Re x(t)')\n",
    "plt.title(r'Real part of  $x(t)=e^{j 2 \\pi f t}$');\n",
    "\n",
    "plt.subplot(2,1,2)\n",
    "plt.plot(t, x.imag, 'b')\n",
    "plt.xlabel('t')\n",
    "plt.ylabel('Im x(t)')\n",
    "plt.title(r'Imaginary part of  $x(t)=e^{j 2 \\pi f t}$');\n",
    "plt.tight_layout()\n",
    "plt.show()"
   ]
  },
  {
   "cell_type": "markdown",
   "metadata": {},
   "source": [
    "### Spectrogram Plot"
   ]
  },
  {
   "cell_type": "code",
   "execution_count": null,
   "metadata": {},
   "outputs": [],
   "source": [
    "Pxx, freqs, bins, im = plt.specgram(y, NFFT=256, Fs=INPUT_SAMPLE_RATE)\n",
    "plt.ylabel('Frequency [Hz]')\n",
    "plt.xlabel('Time [sec]')\n",
    "plt.show()"
   ]
  },
  {
   "cell_type": "code",
   "execution_count": null,
   "metadata": {},
   "outputs": [],
   "source": []
  }
 ],
 "metadata": {
  "kernelspec": {
   "display_name": "Python 3",
   "language": "python",
   "name": "python3"
  },
  "language_info": {
   "codemirror_mode": {
    "name": "ipython",
    "version": 3
   },
   "file_extension": ".py",
   "mimetype": "text/x-python",
   "name": "python",
   "nbconvert_exporter": "python",
   "pygments_lexer": "ipython3",
   "version": "3.6.7"
  }
 },
 "nbformat": 4,
 "nbformat_minor": 2
}
